{
 "cells": [
  {
   "cell_type": "code",
   "execution_count": 2,
   "id": "93fcd235-a36a-4df6-8a4f-41f49a85c3a9",
   "metadata": {},
   "outputs": [],
   "source": [
    "import pandas as pd \n",
    "import numpy as np\n",
    "from sklearn.feature_extraction.text import TfidfVectorizer\n",
    "from sklearn.metrics.pairwise import linear_kernel"
   ]
  },
  {
   "cell_type": "code",
   "execution_count": 46,
   "id": "91fe42e9-92bd-47be-aca6-29c7e6ccc7bc",
   "metadata": {},
   "outputs": [],
   "source": [
    "df = pd.read_csv('./BBooks.csv',encoding='latin-1')"
   ]
  },
  {
   "cell_type": "code",
   "execution_count": 45,
   "id": "3dba3fd2-c402-43c8-8ddb-906df5bf3657",
   "metadata": {},
   "outputs": [
    {
     "data": {
      "text/html": [
       "<div>\n",
       "<style scoped>\n",
       "    .dataframe tbody tr th:only-of-type {\n",
       "        vertical-align: middle;\n",
       "    }\n",
       "\n",
       "    .dataframe tbody tr th {\n",
       "        vertical-align: top;\n",
       "    }\n",
       "\n",
       "    .dataframe thead th {\n",
       "        text-align: right;\n",
       "    }\n",
       "</style>\n",
       "<table border=\"1\" class=\"dataframe\">\n",
       "  <thead>\n",
       "    <tr style=\"text-align: right;\">\n",
       "      <th></th>\n",
       "      <th>title</th>\n",
       "      <th>series</th>\n",
       "      <th>author</th>\n",
       "      <th>rating</th>\n",
       "      <th>description</th>\n",
       "      <th>genres</th>\n",
       "      <th>characters</th>\n",
       "      <th>publisher</th>\n",
       "      <th>publishDate</th>\n",
       "      <th>firstPublishDate</th>\n",
       "      <th>likedPercent</th>\n",
       "      <th>setting</th>\n",
       "      <th>coverImg</th>\n",
       "    </tr>\n",
       "  </thead>\n",
       "  <tbody>\n",
       "    <tr>\n",
       "      <th>0</th>\n",
       "      <td>The Hunger Games</td>\n",
       "      <td>The Hunger Games #1</td>\n",
       "      <td>Suzanne Collins</td>\n",
       "      <td>4.33</td>\n",
       "      <td>WINNING MEANS FAME AND FORTUNE.LOSING MEANS CE...</td>\n",
       "      <td>['Young Adult', 'Fiction', 'Dystopia', 'Fantas...</td>\n",
       "      <td>['Katniss Everdeen', 'Peeta Mellark', 'Cato (H...</td>\n",
       "      <td>Scholastic Press</td>\n",
       "      <td>9/14/08</td>\n",
       "      <td>NaN</td>\n",
       "      <td>96.0</td>\n",
       "      <td>['District 12, Panem', 'Capitol, Panem', 'Pane...</td>\n",
       "      <td>https://i.gr-assets.com/images/S/compressed.ph...</td>\n",
       "    </tr>\n",
       "    <tr>\n",
       "      <th>1</th>\n",
       "      <td>Harry Potter and the Order of the Phoenix</td>\n",
       "      <td>Harry Potter #5</td>\n",
       "      <td>J.K. Rowling, Mary GrandPrÃ© (Illustrator)</td>\n",
       "      <td>4.50</td>\n",
       "      <td>There is a door at the end of a silent corrido...</td>\n",
       "      <td>['Fantasy', 'Young Adult', 'Fiction', 'Magic',...</td>\n",
       "      <td>['Sirius Black', 'Draco Malfoy', 'Ron Weasley'...</td>\n",
       "      <td>Scholastic Inc.</td>\n",
       "      <td>9/28/04</td>\n",
       "      <td>6/21/03</td>\n",
       "      <td>98.0</td>\n",
       "      <td>['Hogwarts School of Witchcraft and Wizardry (...</td>\n",
       "      <td>https://i.gr-assets.com/images/S/compressed.ph...</td>\n",
       "    </tr>\n",
       "    <tr>\n",
       "      <th>2</th>\n",
       "      <td>To Kill a Mockingbird</td>\n",
       "      <td>To Kill a Mockingbird</td>\n",
       "      <td>Harper Lee</td>\n",
       "      <td>4.28</td>\n",
       "      <td>The unforgettable novel of a childhood in a sl...</td>\n",
       "      <td>['Classics', 'Fiction', 'Historical Fiction', ...</td>\n",
       "      <td>['Scout Finch', 'Atticus Finch', 'Jem Finch', ...</td>\n",
       "      <td>Harper Perennial Modern Classics</td>\n",
       "      <td>5/23/06</td>\n",
       "      <td>7/11/60</td>\n",
       "      <td>95.0</td>\n",
       "      <td>['Maycomb, Alabama (United States)']</td>\n",
       "      <td>https://i.gr-assets.com/images/S/compressed.ph...</td>\n",
       "    </tr>\n",
       "    <tr>\n",
       "      <th>3</th>\n",
       "      <td>Pride and Prejudice</td>\n",
       "      <td>NaN</td>\n",
       "      <td>Jane Austen, Anna Quindlen (Introduction)</td>\n",
       "      <td>4.26</td>\n",
       "      <td>Alternate cover edition of ISBN 9780679783268S...</td>\n",
       "      <td>['Classics', 'Fiction', 'Romance', 'Historical...</td>\n",
       "      <td>['Mr. Bennet', 'Mrs. Bennet', 'Jane Bennet', '...</td>\n",
       "      <td>Modern Library</td>\n",
       "      <td>10/10/00</td>\n",
       "      <td>1/28/13</td>\n",
       "      <td>94.0</td>\n",
       "      <td>['United Kingdom', 'Derbyshire, England (Unite...</td>\n",
       "      <td>https://i.gr-assets.com/images/S/compressed.ph...</td>\n",
       "    </tr>\n",
       "    <tr>\n",
       "      <th>4</th>\n",
       "      <td>Twilight</td>\n",
       "      <td>The Twilight Saga #1</td>\n",
       "      <td>Stephenie Meyer</td>\n",
       "      <td>3.60</td>\n",
       "      <td>About three things I was absolutely positive.\\...</td>\n",
       "      <td>['Young Adult', 'Fantasy', 'Romance', 'Vampire...</td>\n",
       "      <td>['Edward Cullen', 'Jacob Black', 'Laurent', 'R...</td>\n",
       "      <td>Little, Brown and Company</td>\n",
       "      <td>9/6/06</td>\n",
       "      <td>10/5/05</td>\n",
       "      <td>78.0</td>\n",
       "      <td>['Forks, Washington (United States)', 'Phoenix...</td>\n",
       "      <td>https://i.gr-assets.com/images/S/compressed.ph...</td>\n",
       "    </tr>\n",
       "  </tbody>\n",
       "</table>\n",
       "</div>"
      ],
      "text/plain": [
       "                                       title                 series  \\\n",
       "0                           The Hunger Games    The Hunger Games #1   \n",
       "1  Harry Potter and the Order of the Phoenix        Harry Potter #5   \n",
       "2                      To Kill a Mockingbird  To Kill a Mockingbird   \n",
       "3                        Pride and Prejudice                    NaN   \n",
       "4                                   Twilight   The Twilight Saga #1   \n",
       "\n",
       "                                       author  rating  \\\n",
       "0                             Suzanne Collins    4.33   \n",
       "1  J.K. Rowling, Mary GrandPrÃ© (Illustrator)    4.50   \n",
       "2                                  Harper Lee    4.28   \n",
       "3   Jane Austen, Anna Quindlen (Introduction)    4.26   \n",
       "4                             Stephenie Meyer    3.60   \n",
       "\n",
       "                                         description  \\\n",
       "0  WINNING MEANS FAME AND FORTUNE.LOSING MEANS CE...   \n",
       "1  There is a door at the end of a silent corrido...   \n",
       "2  The unforgettable novel of a childhood in a sl...   \n",
       "3  Alternate cover edition of ISBN 9780679783268S...   \n",
       "4  About three things I was absolutely positive.\\...   \n",
       "\n",
       "                                              genres  \\\n",
       "0  ['Young Adult', 'Fiction', 'Dystopia', 'Fantas...   \n",
       "1  ['Fantasy', 'Young Adult', 'Fiction', 'Magic',...   \n",
       "2  ['Classics', 'Fiction', 'Historical Fiction', ...   \n",
       "3  ['Classics', 'Fiction', 'Romance', 'Historical...   \n",
       "4  ['Young Adult', 'Fantasy', 'Romance', 'Vampire...   \n",
       "\n",
       "                                          characters  \\\n",
       "0  ['Katniss Everdeen', 'Peeta Mellark', 'Cato (H...   \n",
       "1  ['Sirius Black', 'Draco Malfoy', 'Ron Weasley'...   \n",
       "2  ['Scout Finch', 'Atticus Finch', 'Jem Finch', ...   \n",
       "3  ['Mr. Bennet', 'Mrs. Bennet', 'Jane Bennet', '...   \n",
       "4  ['Edward Cullen', 'Jacob Black', 'Laurent', 'R...   \n",
       "\n",
       "                          publisher publishDate firstPublishDate  \\\n",
       "0                  Scholastic Press     9/14/08              NaN   \n",
       "1                   Scholastic Inc.     9/28/04          6/21/03   \n",
       "2  Harper Perennial Modern Classics     5/23/06          7/11/60   \n",
       "3                    Modern Library    10/10/00          1/28/13   \n",
       "4         Little, Brown and Company      9/6/06          10/5/05   \n",
       "\n",
       "   likedPercent                                            setting  \\\n",
       "0          96.0  ['District 12, Panem', 'Capitol, Panem', 'Pane...   \n",
       "1          98.0  ['Hogwarts School of Witchcraft and Wizardry (...   \n",
       "2          95.0               ['Maycomb, Alabama (United States)']   \n",
       "3          94.0  ['United Kingdom', 'Derbyshire, England (Unite...   \n",
       "4          78.0  ['Forks, Washington (United States)', 'Phoenix...   \n",
       "\n",
       "                                            coverImg  \n",
       "0  https://i.gr-assets.com/images/S/compressed.ph...  \n",
       "1  https://i.gr-assets.com/images/S/compressed.ph...  \n",
       "2  https://i.gr-assets.com/images/S/compressed.ph...  \n",
       "3  https://i.gr-assets.com/images/S/compressed.ph...  \n",
       "4  https://i.gr-assets.com/images/S/compressed.ph...  "
      ]
     },
     "execution_count": 45,
     "metadata": {},
     "output_type": "execute_result"
    }
   ],
   "source": [
    "df.head()"
   ]
  },
  {
   "cell_type": "code",
   "execution_count": 5,
   "id": "1654dee2-caad-4036-a87b-2fdaf616c364",
   "metadata": {},
   "outputs": [
    {
     "data": {
      "text/plain": [
       "0        ['Young Adult', 'Fiction', 'Dystopia', 'Fantas...\n",
       "1        ['Fantasy', 'Young Adult', 'Fiction', 'Magic',...\n",
       "2        ['Classics', 'Fiction', 'Historical Fiction', ...\n",
       "3        ['Classics', 'Fiction', 'Romance', 'Historical...\n",
       "4        ['Young Adult', 'Fantasy', 'Romance', 'Vampire...\n",
       "                               ...                        \n",
       "46462    ['Vampires', 'Paranormal', 'Young Adult', 'Rom...\n",
       "46463                           ['Mystery', 'Young Adult']\n",
       "46464    ['Fantasy', 'Young Adult', 'Paranormal', 'Ange...\n",
       "46465    ['Fiction', 'Mystery', 'Historical Fiction', '...\n",
       "46466    ['Lds Fiction', 'Historical Fiction', 'Young A...\n",
       "Name: genres, Length: 46467, dtype: object"
      ]
     },
     "execution_count": 5,
     "metadata": {},
     "output_type": "execute_result"
    }
   ],
   "source": [
    "df['genres']"
   ]
  },
  {
   "cell_type": "code",
   "execution_count": 6,
   "id": "0ec129d6-2488-4b83-ba7d-6b86879b9a56",
   "metadata": {},
   "outputs": [],
   "source": [
    "tfidf = TfidfVectorizer(stop_words='english')\n",
    "df['genres']=df['genres'].fillna(\"\")\n",
    "tfidf_matrix = tfidf.fit_transform(df['genres'])"
   ]
  },
  {
   "cell_type": "code",
   "execution_count": 7,
   "id": "d11716dc-c96a-411c-9929-ee69f32d4f39",
   "metadata": {},
   "outputs": [
    {
     "data": {
      "text/plain": [
       "Title                object\n",
       "series               object\n",
       "author               object\n",
       "rating              float64\n",
       "description          object\n",
       "genres               object\n",
       "characters           object\n",
       "publisher            object\n",
       "publishDate          object\n",
       "firstPublishDate     object\n",
       "likedPercent        float64\n",
       "setting              object\n",
       "coverImg             object\n",
       "dtype: object"
      ]
     },
     "execution_count": 7,
     "metadata": {},
     "output_type": "execute_result"
    }
   ],
   "source": [
    "df.dtypes"
   ]
  },
  {
   "cell_type": "code",
   "execution_count": 8,
   "id": "ba1a99c0-58be-4e12-9622-4507fdf0bcc7",
   "metadata": {},
   "outputs": [],
   "source": [
    "cosine_sim = linear_kernel(tfidf_matrix,tfidf_matrix)"
   ]
  },
  {
   "cell_type": "code",
   "execution_count": 41,
   "id": "b0e0a67c-3ae9-4199-99ee-4d0173b1d8a4",
   "metadata": {},
   "outputs": [
    {
     "data": {
      "text/plain": [
       "<bound method Series.drop_duplicates of title\n",
       "The Hunger Games                                 0\n",
       "Harry Potter and the Order of the Phoenix        1\n",
       "To Kill a Mockingbird                            2\n",
       "Pride and Prejudice                              3\n",
       "Twilight                                         4\n",
       "                                             ...  \n",
       "Fractured                                    46462\n",
       "Anasazi                                      46463\n",
       "Marked                                       46464\n",
       "Wayward Son                                  46465\n",
       "Daughter of Helaman                          46466\n",
       "Length: 46467, dtype: int64>"
      ]
     },
     "execution_count": 41,
     "metadata": {},
     "output_type": "execute_result"
    }
   ],
   "source": [
    "indices = pd.Series(df.index, index=df['title']).drop_duplicates\n",
    "indices"
   ]
  },
  {
   "cell_type": "code",
   "execution_count": 11,
   "id": "9db6a6e2-ff7f-4107-b9f1-7aef7e1bb5a8",
   "metadata": {},
   "outputs": [
    {
     "data": {
      "text/plain": [
       "32"
      ]
     },
     "execution_count": 11,
     "metadata": {},
     "output_type": "execute_result"
    }
   ],
   "source": [
    "indices[\"Harry Potter and the Sorcerer's Stone\"]"
   ]
  },
  {
   "cell_type": "code",
   "execution_count": 37,
   "id": "6647a51e-5e4c-4cbe-bfec-c72380a7f42f",
   "metadata": {},
   "outputs": [
    {
     "name": "stdout",
     "output_type": "stream",
     "text": [
      "778              The Restaurant at the End of the Universe\n",
      "1000                     Life, the Universe and Everything\n",
      "1665                  So Long, and Thanks for All the Fish\n",
      "2047                                       Mostly Harmless\n",
      "1548                                   The Light Fantastic\n",
      "2342                                       Moving Pictures\n",
      "155          The Ultimate Hitchhiker's Guide to the Galaxy\n",
      "4288     The Hitchhiker's Guide to the Galaxy: A Trilog...\n",
      "4163                                                  Eric\n",
      "34904                                               Strata\n",
      "9849                             Only You Can Save Mankind\n",
      "16942                                             Truckers\n",
      "46065                                                Wings\n",
      "25100    The Snake Oil Wars or Scheherazade Ginsberg St...\n",
      "23164    The Complete Hitchhiker's Guide to the Galaxy:...\n",
      "1074                                          Going Postal\n",
      "43666                                       Illegal Aliens\n",
      "3589                                                 Snuff\n",
      "4908                                              Sourcery\n",
      "749                                     The Color of Magic\n",
      "Name: Title, dtype: object\n"
     ]
    }
   ],
   "source": [
    "def get_recommendations(title,cosime_sim=cosine_sim):\n",
    "    idx = indices[title]\n",
    "    sim_scores = enumerate(cosine_sim[idx])\n",
    "    sim_scores = sorted(sim_scores,key=lambda x:x[1], reverse=True)\n",
    "    sim_scores = sim_scores[1:21]\n",
    "    #for i in sim_scores:\n",
    "    #  print(i)\n",
    "    sim_index = [i[0] for i in sim_scores]\n",
    "    print(df[\"Title\"].iloc[sim_index])\n",
    "\n",
    "get_recommendations(\"The Hitchhiker's Guide to the Galaxy\")"
   ]
  },
  {
   "cell_type": "code",
   "execution_count": 38,
   "id": "220b2c3e-1477-4828-9ddb-54f488df6ffb",
   "metadata": {},
   "outputs": [
    {
     "name": "stdout",
     "output_type": "stream",
     "text": [
      "32                   Harry Potter and the Sorcerer's Stone\n",
      "71                    Harry Potter and the Deathly Hallows\n",
      "93                Harry Potter and the Prisoner of Azkaban\n",
      "103                    Harry Potter and the Goblet of Fire\n",
      "105                 Harry Potter and the Half-Blood Prince\n",
      "126                Harry Potter and the Chamber of Secrets\n",
      "403                            Harry Potter Series Box Set\n",
      "4414                        The Lives of Christopher Chant\n",
      "13816                                        Conrad's Fate\n",
      "1589                                    A Wind in the Door\n",
      "438                                           Artemis Fowl\n",
      "1801                                     The Eternity Code\n",
      "2044                                       The Lost Colony\n",
      "2122                                   The Arctic Incident\n",
      "2788                                    The Opal Deception\n",
      "3133                                  The Atlantis Complex\n",
      "4729                                     The Last Guardian\n",
      "3488     Harry Potter and the Order of the Phoenix (Har...\n",
      "161                             The Wonderful Wizard of Oz\n",
      "1792                                     The Book of Three\n",
      "Name: Title, dtype: object\n"
     ]
    }
   ],
   "source": [
    "get_recommendations(\"Harry Potter and the Order of the Phoenix\")"
   ]
  },
  {
   "cell_type": "code",
   "execution_count": 18,
   "id": "7b4f8248-b741-40b0-a445-92baa0d40e5b",
   "metadata": {},
   "outputs": [
    {
     "name": "stdout",
     "output_type": "stream",
     "text": [
      "736                                                Macbeth\n",
      "4214       Hamlet: Screenplay, Introduction And Film Diary\n",
      "589                                          Julius Caesar\n",
      "1652                                              Our Town\n",
      "561                                          Twelfth Night\n",
      "939                                            The Tempest\n",
      "411                                    Death of a Salesman\n",
      "415                               A Streetcar Named Desire\n",
      "560                                    The Glass Menagerie\n",
      "23                                        Romeo and Juliet\n",
      "635                                            Oedipus Rex\n",
      "765                                               Antigone\n",
      "1440     The Oedipus Cycle: Oedipus Rex, Oedipus at Col...\n",
      "7045                                   Measure for Measure\n",
      "29395                      The Night Thoreau Spent in Jail\n",
      "7149                                      Twelve Angry Men\n",
      "572                                 The Merchant of Venice\n",
      "2905                                   A Raisin in the Sun\n",
      "14284                                               Fences\n",
      "2082                                             Pygmalion\n",
      "Name: Title, dtype: object\n"
     ]
    }
   ],
   "source": [
    "get_recommendations(\"Macbeth\")"
   ]
  },
  {
   "cell_type": "code",
   "execution_count": 20,
   "id": "5cbbcb17-e788-41f1-b0c2-8edb0b680483",
   "metadata": {},
   "outputs": [
    {
     "name": "stdout",
     "output_type": "stream",
     "text": [
      "22840                         Fools Die\n",
      "13587                         The Prize\n",
      "1425                        Post Office\n",
      "3722                       The Last Don\n",
      "855            Sometimes a Great Notion\n",
      "347                     American Psycho\n",
      "835                            Factotum\n",
      "798                       Kane and Abel\n",
      "4849                       The Sicilian\n",
      "10203                            Omerta\n",
      "1366                 Master of the Game\n",
      "16363                             Hotel\n",
      "43648               Honor Among Thieves\n",
      "30416                     Whiskey River\n",
      "12235                 A Matter of Honor\n",
      "4332                Only Time Will Tell\n",
      "22940                     Beyond Recall\n",
      "42749                          Clockers\n",
      "4087     The Postman Always Rings Twice\n",
      "577              No Country for Old Men\n",
      "Name: Title, dtype: object\n"
     ]
    }
   ],
   "source": [
    "get_recommendations(\"The Godfather\")"
   ]
  },
  {
   "cell_type": "code",
   "execution_count": 21,
   "id": "52b0d37c-afb1-46e0-9cfe-c543cfffc14c",
   "metadata": {},
   "outputs": [
    {
     "name": "stdout",
     "output_type": "stream",
     "text": [
      "971                               Animal Farm / 1984\n",
      "20                                    Fahrenheit 451\n",
      "6                                        Animal Farm\n",
      "1040     Brave New World / Brave New World Revisited\n",
      "38                                   Brave New World\n",
      "713                                           Anthem\n",
      "940                                 The Dispossessed\n",
      "2385                                  The Chrysalids\n",
      "33480                                Alongside Night\n",
      "92                                    Atlas Shrugged\n",
      "3209                          The City and the Stars\n",
      "8802                                 Divided Kingdom\n",
      "5605          Gulliver's Travels / A Modest Proposal\n",
      "60                               The Handmaid's Tale\n",
      "7028                            It Can't Happen Here\n",
      "15896    A Medicine for Melancholy and Other Stories\n",
      "31691                             The Black Corridor\n",
      "11121                     The Tripods Boxed Set of 4\n",
      "21250               The Selection Series 1-3 Box Set\n",
      "4254                                    Player Piano\n",
      "Name: Title, dtype: object\n"
     ]
    }
   ],
   "source": [
    "get_recommendations(\"1984\")"
   ]
  },
  {
   "cell_type": "code",
   "execution_count": 42,
   "id": "ad2323dc-86ab-4b58-9fbe-3ae5949cceb2",
   "metadata": {},
   "outputs": [
    {
     "data": {
      "text/plain": [
       "array([[1.        , 0.32407175, 0.08569771, ..., 0.19861381, 0.11563401,\n",
       "        0.2626655 ],\n",
       "       [0.32407175, 1.        , 0.14919563, ..., 0.22522197, 0.13050803,\n",
       "        0.21719041],\n",
       "       [0.08569771, 0.14919563, 1.        , ..., 0.06211609, 0.17250302,\n",
       "        0.18616747],\n",
       "       ...,\n",
       "       [0.19861381, 0.22522197, 0.06211609, ..., 1.        , 0.03114479,\n",
       "        0.15473707],\n",
       "       [0.11563401, 0.13050803, 0.17250302, ..., 0.03114479, 1.        ,\n",
       "        0.22926325],\n",
       "       [0.2626655 , 0.21719041, 0.18616747, ..., 0.15473707, 0.22926325,\n",
       "        1.        ]])"
      ]
     },
     "execution_count": 42,
     "metadata": {},
     "output_type": "execute_result"
    }
   ],
   "source": [
    "cosine_sim"
   ]
  },
  {
   "cell_type": "code",
   "execution_count": null,
   "id": "922f1d52-bc18-428b-8217-5893f72c45a5",
   "metadata": {},
   "outputs": [],
   "source": []
  }
 ],
 "metadata": {
  "kernelspec": {
   "display_name": "Python 3 (ipykernel)",
   "language": "python",
   "name": "python3"
  },
  "language_info": {
   "codemirror_mode": {
    "name": "ipython",
    "version": 3
   },
   "file_extension": ".py",
   "mimetype": "text/x-python",
   "name": "python",
   "nbconvert_exporter": "python",
   "pygments_lexer": "ipython3",
   "version": "3.10.11"
  }
 },
 "nbformat": 4,
 "nbformat_minor": 5
}
